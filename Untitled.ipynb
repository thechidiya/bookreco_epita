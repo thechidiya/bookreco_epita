{
 "cells": [
  {
   "cell_type": "code",
   "execution_count": 1,
   "metadata": {},
   "outputs": [
    {
     "data": {
      "text/plain": [
       "'/Users/thechidiya/Python/bookReco_epita'"
      ]
     },
     "execution_count": 1,
     "metadata": {},
     "output_type": "execute_result"
    }
   ],
   "source": [
    "pwd"
   ]
  },
  {
   "cell_type": "code",
   "execution_count": 2,
   "metadata": {},
   "outputs": [
    {
     "ename": "NameError",
     "evalue": "name 'pandas' is not defined",
     "output_type": "error",
     "traceback": [
      "\u001b[0;31m---------------------------------------------------------------------------\u001b[0m",
      "\u001b[0;31mNameError\u001b[0m                                 Traceback (most recent call last)",
      "\u001b[0;32m<ipython-input-2-a776eadf1b2e>\u001b[0m in \u001b[0;36m<module>\u001b[0;34m()\u001b[0m\n\u001b[0;32m----> 1\u001b[0;31m \u001b[0mpandas\u001b[0m\u001b[0;34m.\u001b[0m\u001b[0mread_csv\u001b[0m\u001b[0;34m(\u001b[0m\u001b[0;34m'books.csv'\u001b[0m\u001b[0;34m)\u001b[0m\u001b[0;34m\u001b[0m\u001b[0m\n\u001b[0m",
      "\u001b[0;31mNameError\u001b[0m: name 'pandas' is not defined"
     ]
    }
   ],
   "source": [
    "pandas.read_csv('books.csv')"
   ]
  },
  {
   "cell_type": "code",
   "execution_count": 3,
   "metadata": {},
   "outputs": [
    {
     "name": "stdout",
     "output_type": "stream",
     "text": [
      "total 488\r\n",
      "-rw-r--r--@ 1 thechidiya  staff      56 Feb 13  2018 README.md\r\n",
      "-rw-r--r--  1 thechidiya  staff      72 Feb 14 03:13 Untitled.ipynb\r\n",
      "drwxr-xr-x  3 thechidiya  staff      96 Feb 14 02:18 \u001b[34m__pycache__\u001b[m\u001b[m/\r\n",
      "-rw-r--r--@ 1 thechidiya  staff    1040 Feb 14 02:52 application.py\r\n",
      "-rw-r--r--@ 1 thechidiya  staff  229161 Feb 13  2018 books.csv\r\n",
      "-rw-r--r--  1 thechidiya  staff     236 Feb 13 22:54 export.txt\r\n",
      "drwxr-xr-x  3 thechidiya  staff      96 Feb 14 02:18 \u001b[34mflask_session\u001b[m\u001b[m/\r\n",
      "-rw-r--r--@ 1 thechidiya  staff      40 Feb 13  2018 requirements.txt\r\n",
      "drwxr-xr-x  6 thechidiya  staff     192 Feb 14 02:53 \u001b[34mtemplates\u001b[m\u001b[m/\r\n"
     ]
    }
   ],
   "source": [
    "ls -l"
   ]
  },
  {
   "cell_type": "code",
   "execution_count": null,
   "metadata": {},
   "outputs": [],
   "source": []
  }
 ],
 "metadata": {
  "kernelspec": {
   "display_name": "Python 3",
   "language": "python",
   "name": "python3"
  },
  "language_info": {
   "codemirror_mode": {
    "name": "ipython",
    "version": 3
   },
   "file_extension": ".py",
   "mimetype": "text/x-python",
   "name": "python",
   "nbconvert_exporter": "python",
   "pygments_lexer": "ipython3",
   "version": "3.7.0"
  }
 },
 "nbformat": 4,
 "nbformat_minor": 2
}
